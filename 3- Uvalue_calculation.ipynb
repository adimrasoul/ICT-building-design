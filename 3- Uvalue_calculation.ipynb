{
 "cells": [
  {
   "cell_type": "code",
   "execution_count": 1,
   "metadata": {},
   "outputs": [],
   "source": [
    "import matplotlib.pyplot as plt\n",
    "from seaborn import heatmap\n",
    "from seaborn import pairplot\n",
    "from besos import eppy_funcs as ef\n",
    "from besos import sampling\n",
    "from besos.evaluator import EvaluatorEP\n",
    "from besos.parameters import RangeParameter, FieldSelector, FilterSelector, Parameter, expand_plist, wwr, CategoryParameter, GenericSelector\n",
    "from besos.problem import EPProblem\n",
    "import pandas as pd\n",
    "import numpy as np"
   ]
  },
  {
   "cell_type": "markdown",
   "metadata": {},
   "source": [
    "in our project the u-value for both case of ventilation (on/off) is the same"
   ]
  },
  {
   "cell_type": "code",
   "execution_count": 3,
   "metadata": {},
   "outputs": [],
   "source": [
    "building = ef.get_building('/home/ict4bd/Desktop/Project/IDF final/on.idf')\n",
    "Materials = [material for material in building.idfobjects[\"MATERIAL\"]]\n",
    "Materials_NoMass = [materials for materials in building.idfobjects[\"material:NoMass\"]]"
   ]
  },
  {
   "cell_type": "code",
   "execution_count": 4,
   "metadata": {},
   "outputs": [],
   "source": [
    "# fixed values\n",
    "ascExt = 0.04\n",
    "ascInt = 0.1\n",
    "horExt = 0.04\n",
    "horInt = 0.13\n",
    "desExt = 0.04\n",
    "desInt = 0.17\n",
    "condutivity_insulation = .034"
   ]
  },
  {
   "cell_type": "markdown",
   "metadata": {},
   "source": [
    "To calculate U-Value"
   ]
  },
  {
   "cell_type": "code",
   "execution_count": 7,
   "metadata": {},
   "outputs": [
    {
     "data": {
      "text/html": [
       "<div>\n",
       "<style scoped>\n",
       "    .dataframe tbody tr th:only-of-type {\n",
       "        vertical-align: middle;\n",
       "    }\n",
       "\n",
       "    .dataframe tbody tr th {\n",
       "        vertical-align: top;\n",
       "    }\n",
       "\n",
       "    .dataframe thead th {\n",
       "        text-align: right;\n",
       "    }\n",
       "</style>\n",
       "<table border=\"1\" class=\"dataframe\">\n",
       "  <thead>\n",
       "    <tr style=\"text-align: right;\">\n",
       "      <th></th>\n",
       "      <th>U-Value</th>\n",
       "      <th>Thickness</th>\n",
       "    </tr>\n",
       "  </thead>\n",
       "  <tbody>\n",
       "    <tr>\n",
       "      <th>0</th>\n",
       "      <td>1.8280</td>\n",
       "      <td>0.001000</td>\n",
       "    </tr>\n",
       "    <tr>\n",
       "      <th>1</th>\n",
       "      <td>0.5926</td>\n",
       "      <td>0.039778</td>\n",
       "    </tr>\n",
       "    <tr>\n",
       "      <th>2</th>\n",
       "      <td>0.3536</td>\n",
       "      <td>0.078556</td>\n",
       "    </tr>\n",
       "    <tr>\n",
       "      <th>3</th>\n",
       "      <td>0.2520</td>\n",
       "      <td>0.117333</td>\n",
       "    </tr>\n",
       "    <tr>\n",
       "      <th>4</th>\n",
       "      <td>0.1957</td>\n",
       "      <td>0.156111</td>\n",
       "    </tr>\n",
       "    <tr>\n",
       "      <th>5</th>\n",
       "      <td>0.1600</td>\n",
       "      <td>0.194889</td>\n",
       "    </tr>\n",
       "    <tr>\n",
       "      <th>6</th>\n",
       "      <td>0.1353</td>\n",
       "      <td>0.233667</td>\n",
       "    </tr>\n",
       "    <tr>\n",
       "      <th>7</th>\n",
       "      <td>0.1172</td>\n",
       "      <td>0.272444</td>\n",
       "    </tr>\n",
       "    <tr>\n",
       "      <th>8</th>\n",
       "      <td>0.1034</td>\n",
       "      <td>0.311222</td>\n",
       "    </tr>\n",
       "    <tr>\n",
       "      <th>9</th>\n",
       "      <td>0.0925</td>\n",
       "      <td>0.350000</td>\n",
       "    </tr>\n",
       "  </tbody>\n",
       "</table>\n",
       "</div>"
      ],
      "text/plain": [
       "   U-Value  Thickness\n",
       "0   1.8280   0.001000\n",
       "1   0.5926   0.039778\n",
       "2   0.3536   0.078556\n",
       "3   0.2520   0.117333\n",
       "4   0.1957   0.156111\n",
       "5   0.1600   0.194889\n",
       "6   0.1353   0.233667\n",
       "7   0.1172   0.272444\n",
       "8   0.1034   0.311222\n",
       "9   0.0925   0.350000"
      ]
     },
     "execution_count": 7,
     "metadata": {},
     "output_type": "execute_result"
    }
   ],
   "source": [
    "uValue_Wall_temp = []\n",
    "for tick in np.linspace(0.001,0.35,10):    \n",
    "    layer_wall = [6,7,8]    \n",
    "    resistance = 0\n",
    "    for i in layer_wall:    \n",
    "        thickness_ = Materials[i].Thickness\n",
    "        conductivity_ = Materials[i].Conductivity\n",
    "        resistance += (thickness_/conductivity_)\n",
    "    resistance += (tick/condutivity_insulation)\n",
    "    U_val = (round(1/(horExt+horInt+resistance),4))\n",
    "    uValue_Wall_temp.append({'U-Value': U_val,\n",
    "                             'Thickness': tick})\n",
    "uValue_Wall = pd.DataFrame.from_dict(uValue_Wall_temp)\n",
    "uValue_Wall"
   ]
  },
  {
   "cell_type": "code",
   "execution_count": 12,
   "metadata": {},
   "outputs": [
    {
     "data": {
      "text/html": [
       "<div>\n",
       "<style scoped>\n",
       "    .dataframe tbody tr th:only-of-type {\n",
       "        vertical-align: middle;\n",
       "    }\n",
       "\n",
       "    .dataframe tbody tr th {\n",
       "        vertical-align: top;\n",
       "    }\n",
       "\n",
       "    .dataframe thead th {\n",
       "        text-align: right;\n",
       "    }\n",
       "</style>\n",
       "<table border=\"1\" class=\"dataframe\">\n",
       "  <thead>\n",
       "    <tr style=\"text-align: right;\">\n",
       "      <th></th>\n",
       "      <th>U-Value</th>\n",
       "      <th>Thickness</th>\n",
       "    </tr>\n",
       "  </thead>\n",
       "  <tbody>\n",
       "    <tr>\n",
       "      <th>0</th>\n",
       "      <td>1.5982</td>\n",
       "      <td>0.001000</td>\n",
       "    </tr>\n",
       "    <tr>\n",
       "      <th>1</th>\n",
       "      <td>0.5662</td>\n",
       "      <td>0.039778</td>\n",
       "    </tr>\n",
       "    <tr>\n",
       "      <th>2</th>\n",
       "      <td>0.3440</td>\n",
       "      <td>0.078556</td>\n",
       "    </tr>\n",
       "    <tr>\n",
       "      <th>3</th>\n",
       "      <td>0.2471</td>\n",
       "      <td>0.117333</td>\n",
       "    </tr>\n",
       "    <tr>\n",
       "      <th>4</th>\n",
       "      <td>0.1928</td>\n",
       "      <td>0.156111</td>\n",
       "    </tr>\n",
       "    <tr>\n",
       "      <th>5</th>\n",
       "      <td>0.1580</td>\n",
       "      <td>0.194889</td>\n",
       "    </tr>\n",
       "    <tr>\n",
       "      <th>6</th>\n",
       "      <td>0.1339</td>\n",
       "      <td>0.233667</td>\n",
       "    </tr>\n",
       "    <tr>\n",
       "      <th>7</th>\n",
       "      <td>0.1162</td>\n",
       "      <td>0.272444</td>\n",
       "    </tr>\n",
       "    <tr>\n",
       "      <th>8</th>\n",
       "      <td>0.1026</td>\n",
       "      <td>0.311222</td>\n",
       "    </tr>\n",
       "    <tr>\n",
       "      <th>9</th>\n",
       "      <td>0.0918</td>\n",
       "      <td>0.350000</td>\n",
       "    </tr>\n",
       "  </tbody>\n",
       "</table>\n",
       "</div>"
      ],
      "text/plain": [
       "   U-Value  Thickness\n",
       "0   1.5982   0.001000\n",
       "1   0.5662   0.039778\n",
       "2   0.3440   0.078556\n",
       "3   0.2471   0.117333\n",
       "4   0.1928   0.156111\n",
       "5   0.1580   0.194889\n",
       "6   0.1339   0.233667\n",
       "7   0.1162   0.272444\n",
       "8   0.1026   0.311222\n",
       "9   0.0918   0.350000"
      ]
     },
     "execution_count": 12,
     "metadata": {},
     "output_type": "execute_result"
    }
   ],
   "source": [
    "uValue_roof_temp = []\n",
    "for tick in np.linspace(0.001,0.35,10):    \n",
    "    layer_roof = [1,3]    \n",
    "    resistance = 0\n",
    "    for i in layer_roof:    \n",
    "        thickness_ = Materials[i].Thickness\n",
    "        conductivity_ = Materials[i].Conductivity\n",
    "        resistance += (thickness_/conductivity_)\n",
    "    resistance += (tick/condutivity_insulation)\n",
    "    resistance += Materials_NoMass[1].Thermal_Resistance\n",
    "    U_val = (round(1/(ascExt+ascInt+desInt+desExt+resistance),4))\n",
    "    uValue_roof_temp.append({'U-Value': U_val,\n",
    "                             'Thickness': tick})\n",
    "uValue_roof = pd.DataFrame.from_dict(uValue_roof_temp)\n",
    "uValue_roof"
   ]
  },
  {
   "cell_type": "code",
   "execution_count": 15,
   "metadata": {},
   "outputs": [
    {
     "data": {
      "image/png": "[encoded data removed]",
      "text/plain": [
       "<Figure size 432x288 with 1 Axes>"
      ]
     },
     "metadata": {
      "needs_background": "light"
     },
     "output_type": "display_data"
    }
   ],
   "source": [
    "fig = plt.figure()\n",
    "plt.plot(uValue_roof['U-Value'],uValue_roof['Thickness'],label='Roof')\n",
    "plt.plot(uValue_Wall['U-Value'],uValue_Wall['Thickness'],label='Wall')\n",
    "\n",
    "plt.xlabel('U-Value')\n",
    "plt.ylabel('Thickness')\n",
    "plt.title('U-Value vs Thickness')\n",
    "plt.legend()\n",
    "plt.show()"
   ]
  },
  {
   "cell_type": "code",
   "execution_count": null,
   "metadata": {},
   "outputs": [],
   "source": []
  }
 ],
 "metadata": {
  "kernelspec": {
   "display_name": "Python 3",
   "language": "python",
   "name": "python3"
  },
  "language_info": {
   "codemirror_mode": {
    "name": "ipython",
    "version": 3
   },
   "file_extension": ".py",
   "mimetype": "text/x-python",
   "name": "python",
   "nbconvert_exporter": "python",
   "pygments_lexer": "ipython3",
   "version": "3.6.9"
  }
 },
 "nbformat": 4,
 "nbformat_minor": 2
}
