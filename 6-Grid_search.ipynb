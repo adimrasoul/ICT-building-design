{
 "cells": [
  {
   "cell_type": "code",
   "execution_count": 1,
   "metadata": {},
   "outputs": [],
   "source": [
    "import pandas as pd\n",
    "from matplotlib import pyplot as plt\n",
    "import numpy as np\n",
    "from statsmodels.tsa.arima_model import ARIMA\n",
    "from sklearn.metrics import mean_squared_error, mean_absolute_error\n",
    "import seaborn as sns\n",
    "import warnings\n",
    "from func import ind, fl, fitData\n",
    "warnings.filterwarnings(\"ignore\")"
   ]
  },
  {
   "cell_type": "markdown",
   "metadata": {},
   "source": [
    "Inserting Prepared Data"
   ]
  },
  {
   "cell_type": "code",
   "execution_count": 2,
   "metadata": {},
   "outputs": [],
   "source": [
    "data = pd.read_csv('/home/ict4bd/Desktop/Project/Data_Output/Data_for_ARIMA.csv',sep=',',decimal=',', low_memory=False)"
   ]
  },
  {
   "cell_type": "markdown",
   "metadata": {},
   "source": [
    "Define a list with just value and Converting Data from STRING to FLOAT\n"
   ]
  },
  {
   "cell_type": "code",
   "execution_count": 3,
   "metadata": {},
   "outputs": [],
   "source": [
    "data = fl(data)\n",
    "X = data.total_power.values.astype(float)"
   ]
  },
  {
   "cell_type": "markdown",
   "metadata": {},
   "source": [
    "Defining Training and test size for ARIMA Model"
   ]
  },
  {
   "cell_type": "code",
   "execution_count": 4,
   "metadata": {},
   "outputs": [],
   "source": [
    "# amount of data in the initial window of training\n",
    "training_size = 24*365*2\n",
    "# number of tests to be done for which we repeat the train and test\n",
    "test_size = 24*30"
   ]
  },
  {
   "cell_type": "markdown",
   "metadata": {},
   "source": [
    "Ordering P (autocorrelation value) and Q (partial autocorrelation)"
   ]
  },
  {
   "cell_type": "code",
   "execution_count": 5,
   "metadata": {},
   "outputs": [],
   "source": [
    "p_order = (2,4,8,10,12)\n",
    "q_order = (1,2,3,7,8)\n",
    "# fixed parameters [needed for non-stationarity of the series -> parabolic trend] but in our case is 0\n",
    "d = 0"
   ]
  },
  {
   "cell_type": "markdown",
   "metadata": {},
   "source": [
    "Main part of Process (grid search)"
   ]
  },
  {
   "cell_type": "code",
   "execution_count": null,
   "metadata": {},
   "outputs": [],
   "source": [
    "best_mse, best_order = float(\"inf\"), None\n",
    "result_temp = []\n",
    "\n",
    "for q in q_order:\n",
    "    for p in p_order:\n",
    "        print('Testing p =', p, 'and q =', q)\n",
    "        order = (p, d, q)\n",
    "        # split train and test\n",
    "        train = X[0:training_size]\n",
    "        test = X[training_size:training_size + test_size]\n",
    "\n",
    "        predictions = list()\n",
    "        # data for training\n",
    "        history = [x for x in train]\n",
    "        # for all tests\n",
    "        for t in range(0, test_size):\n",
    "            # new ARIMA model\n",
    "            try:\n",
    "                model = ARIMA(history, order=order)\n",
    "                # fit it\n",
    "                model_fit = model.fit(method='css', disp=0)\n",
    "                # forecasted data at t+j\n",
    "                output = model_fit.forecast()[0][0]\n",
    "                print(output)\n",
    "                # get t+1 -> sorting obs\n",
    "                predictions.append(output)\n",
    "                # slide over time by putting now+1 into past\n",
    "                history.append(test[t])\n",
    "                # drop first sample to use sliding window (to use expanding window, comment the following line)\n",
    "                histroy = history[1:]\n",
    "            except:\n",
    "                print(\"* ERROR IN TRAINING THE MODEL *\")\n",
    "\n",
    "        mse = mean_squared_error(test, predictions)\n",
    "        mape = np.mean(np.abs((test - predictions) / test)) * 100\n",
    "        result_temp.append({'p': p, 'q': q, 'mse': mape})\n",
    "        print (result_temp)\n",
    "        if mse < best_mse:\n",
    "            best_mse, best_order = mse, order\n",
    "print('Best ARIMA%s MSE=%.3f' % (best_order, best_mse))\n",
    "# for residuals plot\n",
    "plt.figure()\n",
    "result = pd.DataFrame.from_dict(result_temp)\n",
    "result.to_csv('/home/ict4bd/Desktop/Project/Data_Output/GridSearchResult.csv', index=False)"
   ]
  },
  {
   "cell_type": "markdown",
   "metadata": {},
   "source": [
    "Because the last piece of code is really heavy in order to process and time, we split it into smaller part\n",
    "and the result obtained in unic file of CSV as Follow"
   ]
  },
  {
   "cell_type": "code",
   "execution_count": 6,
   "metadata": {},
   "outputs": [],
   "source": [
    "grid_search_result = pd.read_csv('/home/ict4bd/Desktop/Project/Data_Output/GridSearchResult.csv',sep=',',decimal=',', low_memory=False)"
   ]
  },
  {
   "cell_type": "code",
   "execution_count": 7,
   "metadata": {},
   "outputs": [],
   "source": [
    "grid_search_result['mse'] = pd.to_numeric(grid_search_result['mse'], errors='coerce')\n",
    "grid_search_result['mse'] = grid_search_result['mse'].apply(lambda x: round(x, 4))"
   ]
  },
  {
   "cell_type": "code",
   "execution_count": 8,
   "metadata": {},
   "outputs": [
    {
     "data": {
      "text/html": [
       "<div>\n",
       "<style scoped>\n",
       "    .dataframe tbody tr th:only-of-type {\n",
       "        vertical-align: middle;\n",
       "    }\n",
       "\n",
       "    .dataframe tbody tr th {\n",
       "        vertical-align: top;\n",
       "    }\n",
       "\n",
       "    .dataframe thead th {\n",
       "        text-align: right;\n",
       "    }\n",
       "</style>\n",
       "<table border=\"1\" class=\"dataframe\">\n",
       "  <thead>\n",
       "    <tr style=\"text-align: right;\">\n",
       "      <th>p</th>\n",
       "      <th>2</th>\n",
       "      <th>4</th>\n",
       "      <th>8</th>\n",
       "      <th>10</th>\n",
       "    </tr>\n",
       "    <tr>\n",
       "      <th>q</th>\n",
       "      <th></th>\n",
       "      <th></th>\n",
       "      <th></th>\n",
       "      <th></th>\n",
       "    </tr>\n",
       "  </thead>\n",
       "  <tbody>\n",
       "    <tr>\n",
       "      <th>1</th>\n",
       "      <td>1.0891</td>\n",
       "      <td>1.0758</td>\n",
       "      <td>1.0364</td>\n",
       "      <td>1.1635</td>\n",
       "    </tr>\n",
       "    <tr>\n",
       "      <th>2</th>\n",
       "      <td>1.0731</td>\n",
       "      <td>1.0745</td>\n",
       "      <td>1.0528</td>\n",
       "      <td>1.1327</td>\n",
       "    </tr>\n",
       "    <tr>\n",
       "      <th>3</th>\n",
       "      <td>1.0739</td>\n",
       "      <td>1.0743</td>\n",
       "      <td>1.0293</td>\n",
       "      <td>1.1003</td>\n",
       "    </tr>\n",
       "    <tr>\n",
       "      <th>7</th>\n",
       "      <td>1.1289</td>\n",
       "      <td>1.0662</td>\n",
       "      <td>0.9155</td>\n",
       "      <td>0.9709</td>\n",
       "    </tr>\n",
       "    <tr>\n",
       "      <th>8</th>\n",
       "      <td>1.0603</td>\n",
       "      <td>1.0740</td>\n",
       "      <td>1.0112</td>\n",
       "      <td>0.9426</td>\n",
       "    </tr>\n",
       "  </tbody>\n",
       "</table>\n",
       "</div>"
      ],
      "text/plain": [
       "p      2       4       8       10\n",
       "q                                \n",
       "1  1.0891  1.0758  1.0364  1.1635\n",
       "2  1.0731  1.0745  1.0528  1.1327\n",
       "3  1.0739  1.0743  1.0293  1.1003\n",
       "7  1.1289  1.0662  0.9155  0.9709\n",
       "8  1.0603  1.0740  1.0112  0.9426"
      ]
     },
     "execution_count": 8,
     "metadata": {},
     "output_type": "execute_result"
    }
   ],
   "source": [
    "ax = grid_search_result.pivot(index='q', columns='p', values='mse')\n",
    "ax"
   ]
  },
  {
   "cell_type": "code",
   "execution_count": 9,
   "metadata": {},
   "outputs": [
    {
     "data": {
      "image/png": "[encoded data removed]",
      "text/plain": [
       "<Figure size 432x288 with 2 Axes>"
      ]
     },
     "metadata": {
      "needs_background": "light"
     },
     "output_type": "display_data"
    }
   ],
   "source": [
    "show = sns.heatmap(ax, annot=True, fmt='g', cmap='viridis',  linewidth=0.5)\n",
    "plt.show()"
   ]
  },
  {
   "cell_type": "code",
   "execution_count": null,
   "metadata": {},
   "outputs": [],
   "source": []
  }
 ],
 "metadata": {
  "kernelspec": {
   "display_name": "Python 3",
   "language": "python",
   "name": "python3"
  },
  "language_info": {
   "codemirror_mode": {
    "name": "ipython",
    "version": 3
   },
   "file_extension": ".py",
   "mimetype": "text/x-python",
   "name": "python",
   "nbconvert_exporter": "python",
   "pygments_lexer": "ipython3",
   "version": "3.6.9"
  }
 },
 "nbformat": 4,
 "nbformat_minor": 4
}
