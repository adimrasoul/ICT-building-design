{
 "cells": [
  {
   "cell_type": "code",
   "execution_count": 1,
   "metadata": {},
   "outputs": [],
   "source": [
    "from eppy import modeleditor\n",
    "from eppy.modeleditor import IDF\n",
    "from matplotlib import pyplot as plt\n",
    "import os\n",
    "import pandas as pd\n",
    "from besos import eppy_funcs as ef\n",
    "from besos import sampling\n",
    "from besos.evaluator import EvaluatorEP\n",
    "from besos.parameters import RangeParameter, FieldSelector, FilterSelector, Parameter, expand_plist, wwr, CategoryParameter, GenericSelector\n",
    "from besos.problem import EPProblem"
   ]
  },
  {
   "cell_type": "markdown",
   "metadata": {},
   "source": [
    "Define the IDF, IDD and the weather file"
   ]
  },
  {
   "cell_type": "code",
   "execution_count": 2,
   "metadata": {},
   "outputs": [],
   "source": [
    "idd_file='/usr/local/EnergyPlus-9-0-1/Energy+.idd'\n",
    "weather_file ='/home/ict4bd/Desktop/Project/Weather_file/ITA_Torino.160590_IWEC.epw'"
   ]
  },
  {
   "cell_type": "code",
   "execution_count": 3,
   "metadata": {},
   "outputs": [],
   "source": [
    "building = ef.get_building('/home/ict4bd/Desktop/Project/IDF final/on.idf')"
   ]
  },
  {
   "cell_type": "code",
   "execution_count": 4,
   "metadata": {},
   "outputs": [
    {
     "name": "stderr",
     "output_type": "stream",
     "text": [
      "/home/ict4bd/py3/lib/python3.6/site-packages/besos/parameters.py:400: UserWarning: wwr is intended to be used with RangeParameter. Your value_descriptor is CategoryParameter(options=[0.15, 0.5, 0.9])\n",
      "  warnings.warn(f'wwr is intended to be used with RangeParameter. Your value_descriptor is {value_descriptor}')\n"
     ]
    }
   ],
   "source": [
    "insulation = FieldSelector(class_name='Material', object_name='_isolante_01445', field_name='Thickness')\n",
    "insulationPR = Parameter(selector=insulation, value_descriptor=RangeParameter(0.0001, 0.47),\n",
    "                         name='Insulation Thickness')\n",
    "\n",
    "glazing = FieldSelector(class_name='WindowMaterial:Glazing', object_name='38',\n",
    "                        field_name='Solar Transmittance at Normal Incidence')\n",
    "glazingPR = Parameter(selector=glazing, value_descriptor=RangeParameter(.7, .94), name='glazing STNI')\n",
    "\n",
    "window_to_wall = wwr(CategoryParameter(options=[.15,.5,.9]))\n",
    "\n",
    "orientation = FieldSelector(class_name='Building', field_name='North Axis')\n",
    "orientationPR = Parameter(selector=orientation, value_descriptor=CategoryParameter(options=[180, 270]),\n",
    "                          name='Orientation')\n",
    "\n",
    "parameters = [orientationPR , window_to_wall, glazingPR, insulationPR]"
   ]
  },
  {
   "cell_type": "code",
   "execution_count": 5,
   "metadata": {},
   "outputs": [
    {
     "data": {
      "text/html": [
       "<div>\n",
       "<style scoped>\n",
       "    .dataframe tbody tr th:only-of-type {\n",
       "        vertical-align: middle;\n",
       "    }\n",
       "\n",
       "    .dataframe tbody tr th {\n",
       "        vertical-align: top;\n",
       "    }\n",
       "\n",
       "    .dataframe thead th {\n",
       "        text-align: right;\n",
       "    }\n",
       "</style>\n",
       "<table border=\"1\" class=\"dataframe\">\n",
       "  <thead>\n",
       "    <tr style=\"text-align: right;\">\n",
       "      <th></th>\n",
       "      <th>Orientation</th>\n",
       "      <th>Window to Wall Ratio</th>\n",
       "      <th>glazing STNI</th>\n",
       "      <th>Insulation Thickness</th>\n",
       "    </tr>\n",
       "  </thead>\n",
       "  <tbody>\n",
       "    <tr>\n",
       "      <th>0</th>\n",
       "      <td>270</td>\n",
       "      <td>0.15</td>\n",
       "      <td>0.7</td>\n",
       "      <td>0.35</td>\n",
       "    </tr>\n",
       "  </tbody>\n",
       "</table>\n",
       "</div>"
      ],
      "text/plain": [
       "   Orientation  Window to Wall Ratio  glazing STNI  Insulation Thickness\n",
       "0          270                  0.15           0.7                  0.35"
      ]
     },
     "execution_count": 5,
     "metadata": {},
     "output_type": "execute_result"
    }
   ],
   "source": [
    "samples_temp =[]\n",
    "samples_temp.append({'Orientation': 270,\n",
    "                     'Window to Wall Ratio': 0.15,\n",
    "                     'glazing STNI': 0.7,\n",
    "                     'Insulation Thickness': 0.35,})\n",
    "samples = pd.DataFrame.from_dict(samples_temp)\n",
    "samples"
   ]
  },
  {
   "cell_type": "code",
   "execution_count": 6,
   "metadata": {},
   "outputs": [],
   "source": [
    "objectives = ['Electricity:Facility', 'DistrictHeating:Facility', 'DistrictCooling:Facility']\n",
    "\n",
    "problem = EPProblem(parameters, objectives)\n",
    "evaluator = EvaluatorEP(problem, building, out_dir='Simulation_Output/output_besos_best_parameters', error_mode='Silent', err_dir='Simulation_Output/output_besos_best_parameters',\n",
    "                        epw= weather_file)\n",
    "outputs = evaluator.df_apply(samples, keep_input=True)    "
   ]
  },
  {
   "cell_type": "code",
   "execution_count": 7,
   "metadata": {},
   "outputs": [],
   "source": [
    "idf_file = '/home/ict4bd/Desktop/Project/Simulation_Output/output_besos_best_parameters/BESOS_Output/in.idf'\n",
    "idf = IDF(idf_file,weather_file)"
   ]
  },
  {
   "cell_type": "code",
   "execution_count": 8,
   "metadata": {},
   "outputs": [
    {
     "data": {
      "text/plain": [
       "\n",
       "RunPeriod,\n",
       "    BuildLab (01-01:31-12),    !- Name\n",
       "    1,                        !- Begin Month\n",
       "    1,                        !- Begin Day of Month\n",
       "    2017,                     !- Begin Year\n",
       "    12,                       !- End Month\n",
       "    31,                       !- End Day of Month\n",
       "    2019,                     !- End Year\n",
       "    ,                         !- Day of Week for Start Day\n",
       "    No,                       !- Use Weather File Holidays and Special Days\n",
       "    No,                       !- Use Weather File Daylight Saving Period\n",
       "    Yes,                      !- Apply Weekend Holiday Rule\n",
       "    Yes,                      !- Use Weather File Rain Indicators\n",
       "    Yes,                      !- Use Weather File Snow Indicators\n",
       "    ;                         !- Treat Weather as Actual"
      ]
     },
     "execution_count": 8,
     "metadata": {},
     "output_type": "execute_result"
    }
   ],
   "source": [
    "run_period = idf.idfobjects['RunPeriod'][0]\n",
    "run_period.Begin_Year = 2017\n",
    "run_period.End_Year = 2019\n",
    "run_period"
   ]
  },
  {
   "cell_type": "code",
   "execution_count": 9,
   "metadata": {},
   "outputs": [
    {
     "name": "stdout",
     "output_type": "stream",
     "text": [
      "\r\n",
      "/usr/local/EnergyPlus-9-0-1/energyplus --readvars --idd /home/ict4bd/py3/lib/python3.6/site-packages/Data/example_idd.idd --annual --output-directory /home/ict4bd/Desktop/Project/Simulation_Output/output_EPPY_3year --weather /home/ict4bd/Desktop/Project/Weather_file/ITA_Torino.160590_IWEC.epw /home/ict4bd/Desktop/Project/in.idf\r\n",
      "\n"
     ]
    }
   ],
   "source": [
    "idf.run(readvars=True,output_directory=u'Simulation_Output/output_EPPY_3year',annual= True)"
   ]
  },
  {
   "cell_type": "code",
   "execution_count": 10,
   "metadata": {},
   "outputs": [],
   "source": [
    "csv_columns = ['Date/Time',\n",
    "              'BLOCCO1:ROOM407:Zone Operative Temperature [C](Hourly)',\n",
    "              'BLOCCO1:ROOM408:Zone Operative Temperature [C](Hourly)',\n",
    "              'BLOCCO1:CORRIDOIO:Zone Operative Temperature [C](Hourly)',\n",
    "              'Environment:Site Outdoor Air Drybulb Temperature [C](Hourly)',\n",
    "              'DistrictHeating:Facility [J](Hourly)',\n",
    "              'DistrictCooling:Facility [J](Hourly)',\n",
    "              'Electricity:Facility [J](Hourly)']\n",
    "              #'InteriorEquipment:Electricity [J](Hourly)']"
   ]
  },
  {
   "cell_type": "code",
   "execution_count": 11,
   "metadata": {},
   "outputs": [],
   "source": [
    "df_columns = {'Date/Time':'Date_Time',\n",
    "              'BLOCCO1:ROOM407:Zone Operative Temperature [C](Hourly)':'t_in_ROOM407',\n",
    "              'BLOCCO1:ROOM408:Zone Operative Temperature [C](Hourly)':'t_in_ROOM408',\n",
    "              'BLOCCO1:CORRIDOIO:Zone Operative Temperature [C](Hourly)':'t_in_CORRIDOIO',\n",
    "              'Environment:Site Outdoor Air Drybulb Temperature [C](Hourly)':'t_out',\n",
    "              'DistrictHeating:Facility [J](Hourly)':'power_heating',\n",
    "              'DistrictCooling:Facility [J](Hourly)':'power_cooling' ,\n",
    "              'Electricity:Facility [J](Hourly)':'power_electricity'}\n",
    "              #'InteriorEquipment:Electricity [J](Hourly)':'power_InteriorEquipment'}"
   ]
  },
  {
   "cell_type": "code",
   "execution_count": 12,
   "metadata": {
    "scrolled": true
   },
   "outputs": [],
   "source": [
    "idf_data =pd.read_csv('/home/ict4bd/Desktop/Project/Simulation_Output/output_EPPY_3year/eplusout.csv',usecols=csv_columns)"
   ]
  },
  {
   "cell_type": "code",
   "execution_count": 13,
   "metadata": {},
   "outputs": [],
   "source": [
    "idf_data = idf_data.rename(columns =df_columns)"
   ]
  },
  {
   "cell_type": "code",
   "execution_count": 14,
   "metadata": {
    "scrolled": true
   },
   "outputs": [
    {
     "data": {
      "text/html": [
       "<div>\n",
       "<style scoped>\n",
       "    .dataframe tbody tr th:only-of-type {\n",
       "        vertical-align: middle;\n",
       "    }\n",
       "\n",
       "    .dataframe tbody tr th {\n",
       "        vertical-align: top;\n",
       "    }\n",
       "\n",
       "    .dataframe thead th {\n",
       "        text-align: right;\n",
       "    }\n",
       "</style>\n",
       "<table border=\"1\" class=\"dataframe\">\n",
       "  <thead>\n",
       "    <tr style=\"text-align: right;\">\n",
       "      <th></th>\n",
       "      <th>Date_Time</th>\n",
       "      <th>t_out</th>\n",
       "      <th>power_electricity</th>\n",
       "      <th>power_heating</th>\n",
       "      <th>power_cooling</th>\n",
       "      <th>t_in</th>\n",
       "    </tr>\n",
       "  </thead>\n",
       "  <tbody>\n",
       "    <tr>\n",
       "      <th>0</th>\n",
       "      <td>01/01  01:00:00</td>\n",
       "      <td>0.925</td>\n",
       "      <td>5.019437e+05</td>\n",
       "      <td>0.0</td>\n",
       "      <td>0.0</td>\n",
       "      <td>3.675616</td>\n",
       "    </tr>\n",
       "    <tr>\n",
       "      <th>1</th>\n",
       "      <td>01/01  02:00:00</td>\n",
       "      <td>0.650</td>\n",
       "      <td>5.019437e+05</td>\n",
       "      <td>0.0</td>\n",
       "      <td>0.0</td>\n",
       "      <td>3.603681</td>\n",
       "    </tr>\n",
       "    <tr>\n",
       "      <th>2</th>\n",
       "      <td>01/01  03:00:00</td>\n",
       "      <td>0.850</td>\n",
       "      <td>5.019437e+05</td>\n",
       "      <td>0.0</td>\n",
       "      <td>0.0</td>\n",
       "      <td>3.601315</td>\n",
       "    </tr>\n",
       "    <tr>\n",
       "      <th>3</th>\n",
       "      <td>01/01  04:00:00</td>\n",
       "      <td>0.975</td>\n",
       "      <td>5.019437e+05</td>\n",
       "      <td>0.0</td>\n",
       "      <td>0.0</td>\n",
       "      <td>3.586018</td>\n",
       "    </tr>\n",
       "    <tr>\n",
       "      <th>4</th>\n",
       "      <td>01/01  05:00:00</td>\n",
       "      <td>1.000</td>\n",
       "      <td>5.019437e+05</td>\n",
       "      <td>0.0</td>\n",
       "      <td>0.0</td>\n",
       "      <td>3.566741</td>\n",
       "    </tr>\n",
       "    <tr>\n",
       "      <th>...</th>\n",
       "      <td>...</td>\n",
       "      <td>...</td>\n",
       "      <td>...</td>\n",
       "      <td>...</td>\n",
       "      <td>...</td>\n",
       "      <td>...</td>\n",
       "    </tr>\n",
       "    <tr>\n",
       "      <th>26275</th>\n",
       "      <td>12/31  20:00:00</td>\n",
       "      <td>0.875</td>\n",
       "      <td>9.305593e+06</td>\n",
       "      <td>0.0</td>\n",
       "      <td>0.0</td>\n",
       "      <td>20.799003</td>\n",
       "    </tr>\n",
       "    <tr>\n",
       "      <th>26276</th>\n",
       "      <td>12/31  21:00:00</td>\n",
       "      <td>0.575</td>\n",
       "      <td>5.019437e+05</td>\n",
       "      <td>0.0</td>\n",
       "      <td>0.0</td>\n",
       "      <td>19.767256</td>\n",
       "    </tr>\n",
       "    <tr>\n",
       "      <th>26277</th>\n",
       "      <td>12/31  22:00:00</td>\n",
       "      <td>0.275</td>\n",
       "      <td>5.019437e+05</td>\n",
       "      <td>0.0</td>\n",
       "      <td>0.0</td>\n",
       "      <td>19.452057</td>\n",
       "    </tr>\n",
       "    <tr>\n",
       "      <th>26278</th>\n",
       "      <td>12/31  23:00:00</td>\n",
       "      <td>0.200</td>\n",
       "      <td>5.019437e+05</td>\n",
       "      <td>0.0</td>\n",
       "      <td>0.0</td>\n",
       "      <td>19.113428</td>\n",
       "    </tr>\n",
       "    <tr>\n",
       "      <th>26279</th>\n",
       "      <td>12/31  24:00:00</td>\n",
       "      <td>0.275</td>\n",
       "      <td>5.019437e+05</td>\n",
       "      <td>0.0</td>\n",
       "      <td>0.0</td>\n",
       "      <td>18.870426</td>\n",
       "    </tr>\n",
       "  </tbody>\n",
       "</table>\n",
       "<p>26280 rows × 6 columns</p>\n",
       "</div>"
      ],
      "text/plain": [
       "              Date_Time  t_out  power_electricity  power_heating  \\\n",
       "0       01/01  01:00:00  0.925       5.019437e+05            0.0   \n",
       "1       01/01  02:00:00  0.650       5.019437e+05            0.0   \n",
       "2       01/01  03:00:00  0.850       5.019437e+05            0.0   \n",
       "3       01/01  04:00:00  0.975       5.019437e+05            0.0   \n",
       "4       01/01  05:00:00  1.000       5.019437e+05            0.0   \n",
       "...                 ...    ...                ...            ...   \n",
       "26275   12/31  20:00:00  0.875       9.305593e+06            0.0   \n",
       "26276   12/31  21:00:00  0.575       5.019437e+05            0.0   \n",
       "26277   12/31  22:00:00  0.275       5.019437e+05            0.0   \n",
       "26278   12/31  23:00:00  0.200       5.019437e+05            0.0   \n",
       "26279   12/31  24:00:00  0.275       5.019437e+05            0.0   \n",
       "\n",
       "       power_cooling       t_in  \n",
       "0                0.0   3.675616  \n",
       "1                0.0   3.603681  \n",
       "2                0.0   3.601315  \n",
       "3                0.0   3.586018  \n",
       "4                0.0   3.566741  \n",
       "...              ...        ...  \n",
       "26275            0.0  20.799003  \n",
       "26276            0.0  19.767256  \n",
       "26277            0.0  19.452057  \n",
       "26278            0.0  19.113428  \n",
       "26279            0.0  18.870426  \n",
       "\n",
       "[26280 rows x 6 columns]"
      ]
     },
     "execution_count": 14,
     "metadata": {},
     "output_type": "execute_result"
    }
   ],
   "source": [
    "idf_data['t_in'] = idf_data[['t_in_ROOM407','t_in_ROOM408','t_in_CORRIDOIO']].mean(axis=1)\n",
    "idf_data.drop(['t_in_ROOM407', 't_in_ROOM408', 't_in_CORRIDOIO'], axis = 1)"
   ]
  },
  {
   "cell_type": "code",
   "execution_count": 15,
   "metadata": {},
   "outputs": [],
   "source": [
    "idf_data['temp_diff'] =idf_data['t_in'] - idf_data['t_out']"
   ]
  },
  {
   "cell_type": "code",
   "execution_count": 16,
   "metadata": {},
   "outputs": [],
   "source": [
    "first_year = idf_data[0:8760]\n",
    "first_year['Date_Time'] = '2017/' + first_year['Date_Time'].str.strip()"
   ]
  },
  {
   "cell_type": "code",
   "execution_count": 17,
   "metadata": {},
   "outputs": [],
   "source": [
    "second_year = idf_data[8760:17520]\n",
    "second_year['Date_Time'] = '2018/' + second_year['Date_Time'].str.strip()"
   ]
  },
  {
   "cell_type": "code",
   "execution_count": 18,
   "metadata": {},
   "outputs": [],
   "source": [
    "third_year = idf_data[17520:]\n",
    "third_year['Date_Time'] = '2019/' + third_year['Date_Time'].str.strip()"
   ]
  },
  {
   "cell_type": "code",
   "execution_count": 19,
   "metadata": {},
   "outputs": [],
   "source": [
    "idf_data['Date_Time'] = idf_data['Date_Time'].str.replace('24:00:00','23:59:59')"
   ]
  },
  {
   "cell_type": "code",
   "execution_count": 20,
   "metadata": {},
   "outputs": [],
   "source": [
    "idf_data['power_heating'] /= 3.6e6\n",
    "idf_data['power_cooling'] /= 3.6e6\n",
    "idf_data['power_electricity'] /= 3.6e6"
   ]
  },
  {
   "cell_type": "code",
   "execution_count": 21,
   "metadata": {},
   "outputs": [],
   "source": [
    "idf_data['power_heating'] = idf_data['power_heating'].apply(lambda x: round(x, 2))\n",
    "idf_data['power_cooling'] = idf_data['power_cooling'].apply(lambda x: round(x, 2))\n",
    "idf_data['power_electricity'] = idf_data['power_electricity'].apply(lambda x: round(x, 2))\n",
    "idf_data['t_in'] = idf_data['t_in'].apply(lambda x: round(x, 2))\n",
    "idf_data['t_out'] = idf_data['t_out'].apply(lambda x: round(x, 2))"
   ]
  },
  {
   "cell_type": "code",
   "execution_count": 22,
   "metadata": {},
   "outputs": [],
   "source": [
    "idf_data['total_power'] = idf_data['power_heating']+ idf_data['power_cooling'] #+idf_data['power_electricity']"
   ]
  },
  {
   "cell_type": "code",
   "execution_count": 23,
   "metadata": {},
   "outputs": [],
   "source": [
    "idf_data = idf_data[['Date_Time','t_in','t_out','temp_diff','power_heating','power_cooling','power_electricity','total_power']]"
   ]
  },
  {
   "cell_type": "code",
   "execution_count": 24,
   "metadata": {},
   "outputs": [],
   "source": [
    "idf_data.to_csv(path_or_buf='/home/ict4bd/Desktop/Project/Data_Output/simulation_Data_3Year.csv',index=False)"
   ]
  }
 ],
 "metadata": {
  "kernelspec": {
   "display_name": "Python 3",
   "language": "python",
   "name": "python3"
  },
  "language_info": {
   "codemirror_mode": {
    "name": "ipython",
    "version": 3
   },
   "file_extension": ".py",
   "mimetype": "text/x-python",
   "name": "python",
   "nbconvert_exporter": "python",
   "pygments_lexer": "ipython3",
   "version": "3.6.9"
  }
 },
 "nbformat": 4,
 "nbformat_minor": 2
}
